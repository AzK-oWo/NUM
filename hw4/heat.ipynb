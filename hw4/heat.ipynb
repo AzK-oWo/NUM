{
 "cells": [
  {
   "cell_type": "code",
   "execution_count": 1,
   "metadata": {},
   "outputs": [],
   "source": [
    "import matplotlib.pyplot as plt\n",
    "import matplotlib.animation as animation\n",
    "import numpy as np"
   ]
  },
  {
   "cell_type": "code",
   "execution_count": 2,
   "metadata": {},
   "outputs": [],
   "source": [
    "def u0(x):\n",
    "    return np.exp(-x * x / 4)"
   ]
  },
  {
   "cell_type": "code",
   "execution_count": 3,
   "metadata": {},
   "outputs": [],
   "source": [
    "def solution(x, t):\n",
    "    return 1 / np.sqrt(t + 1) * np.exp(-x * x / 4 / (t + 1))"
   ]
  },
  {
   "cell_type": "code",
   "execution_count": 14,
   "metadata": {},
   "outputs": [],
   "source": [
    "def animate(k):\n",
    "\tplt.clf()\n",
    "\tplt.ylim(0, 2)\n",
    "\tplt.title(\"time = \" + str(tau * k ))\n",
    "\tplt.plot(x, y[k], marker='o')\n",
    "\tplt.legend(\"Numerical\")\n",
    "\tplt.plot(x, u[k], marker='*')\n",
    "\tplt.legend(\"Analytical\")"
   ]
  },
  {
   "cell_type": "code",
   "execution_count": 15,
   "metadata": {},
   "outputs": [],
   "source": [
    "mu = 1.0\n",
    "T = 2.0\n",
    "L, R = -10.0, 10.0"
   ]
  },
  {
   "cell_type": "code",
   "execution_count": 18,
   "metadata": {},
   "outputs": [
    {
     "name": "stdout",
     "output_type": "stream",
     "text": [
      "40\n",
      "40\n"
     ]
    }
   ],
   "source": [
    "n = int(input())\n",
    "m = int(input())\n",
    "h = (R - L) / n\n",
    "tau = T / m"
   ]
  },
  {
   "cell_type": "code",
   "execution_count": 19,
   "metadata": {},
   "outputs": [],
   "source": [
    "x = np.linspace(L, R, n + 1)\n",
    "t = np.linspace(0.0, T, m + 1)\n",
    "y = np.zeros((m + 1, n + 1))"
   ]
  },
  {
   "cell_type": "code",
   "execution_count": 20,
   "metadata": {},
   "outputs": [],
   "source": [
    "d = mu * tau / (h * h)\n",
    "y[0] = np.vectorize(u0)(x)\n",
    "for k in range(m):\n",
    "    for i in range(1, n):\n",
    "        y[k + 1][i] = y[k][i] + d * (y[k][i - 1] - 2 * y[k][i] + y[k][i + 1])"
   ]
  },
  {
   "cell_type": "code",
   "execution_count": 21,
   "metadata": {},
   "outputs": [],
   "source": [
    "vsolution = np.vectorize(solution, excluded=['t'])\n",
    "u = np.zeros((m + 1 ,n + 1))\n",
    "for k in range(m):\n",
    "    u[k] = vsolution(x, tau * k)"
   ]
  },
  {
   "cell_type": "code",
   "execution_count": 22,
   "metadata": {},
   "outputs": [
    {
     "data": {
      "image/png": "[encoded data removed]",
      "text/plain": [
       "<Figure size 432x288 with 1 Axes>"
      ]
     },
     "metadata": {
      "needs_background": "light"
     },
     "output_type": "display_data"
    }
   ],
   "source": [
    "ani = animation.FuncAnimation(plt.figure(0), animate, frames=y.shape[0], interval=100)\n",
    "ani.save(\"heat.mp4\")"
   ]
  },
  {
   "cell_type": "code",
   "execution_count": 23,
   "metadata": {},
   "outputs": [],
   "source": [
    "plt.show()"
   ]
  },
  {
   "cell_type": "code",
   "execution_count": null,
   "metadata": {},
   "outputs": [],
   "source": []
  }
 ],
 "metadata": {
  "kernelspec": {
   "display_name": "Python 3",
   "language": "python",
   "name": "python3"
  },
  "language_info": {
   "codemirror_mode": {
    "name": "ipython",
    "version": 3
   },
   "file_extension": ".py",
   "mimetype": "text/x-python",
   "name": "python",
   "nbconvert_exporter": "python",
   "pygments_lexer": "ipython3",
   "version": "3.8.2"
  }
 },
 "nbformat": 4,
 "nbformat_minor": 4
}
