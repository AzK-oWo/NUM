{
 "cells": [
  {
   "cell_type": "code",
   "execution_count": 1,
   "metadata": {},
   "outputs": [],
   "source": [
    "import matplotlib.pyplot as plt\n",
    "import matplotlib.animation as animation\n",
    "import numpy as np"
   ]
  },
  {
   "cell_type": "code",
   "execution_count": 2,
   "metadata": {},
   "outputs": [],
   "source": [
    "def u0(x):\n",
    "\treturn 1.0 / (1 + 2 * x * x)"
   ]
  },
  {
   "cell_type": "code",
   "execution_count": 3,
   "metadata": {},
   "outputs": [],
   "source": [
    "def solution (x, t):\n",
    "\treturn u0(x - C * t)"
   ]
  },
  {
   "cell_type": "code",
   "execution_count": 4,
   "metadata": {},
   "outputs": [],
   "source": [
    "def animate(k):\n",
    "\tplt.clf()\n",
    "\tplt.ylim(0, 1)\n",
    "\tplt.title(\"time = \" + str(tau * k ))\n",
    "\tplt.plot(x, y[k], marker='o')\n",
    "\tplt.legend(\"Numerical\")\n",
    "\tplt.plot(x, u[k], marker='*')\n",
    "\tplt.legend(\"Analytical\")"
   ]
  },
  {
   "cell_type": "code",
   "execution_count": 5,
   "metadata": {},
   "outputs": [],
   "source": [
    "C = 1.0\n",
    "T = 2.0\n",
    "L, R = -5.0, 5.0"
   ]
  },
  {
   "cell_type": "code",
   "execution_count": 6,
   "metadata": {},
   "outputs": [
    {
     "name": "stdout",
     "output_type": "stream",
     "text": [
      "40\n",
      "40\n"
     ]
    }
   ],
   "source": [
    "n = int(input())\n",
    "m = int(input())\n",
    "h = (R - L) / n\n",
    "tau = T / m"
   ]
  },
  {
   "cell_type": "code",
   "execution_count": 7,
   "metadata": {},
   "outputs": [],
   "source": [
    "x = np.linspace(L, R, n + 1)\n",
    "t = np.linspace(0.0, T, m + 1)\n",
    "y = np.zeros((m + 1, n + 1))"
   ]
  },
  {
   "cell_type": "code",
   "execution_count": 8,
   "metadata": {},
   "outputs": [],
   "source": [
    "d = C * tau / h\n",
    "y[0] = np.vectorize(u0)(x)\n",
    "for k in range(m):\n",
    "\tfor i in range(1, n + 1):\n",
    "\t\ty[k + 1][i] = y[k][i] - d * (y[k][i] - y[k][i - 1])"
   ]
  },
  {
   "cell_type": "code",
   "execution_count": 9,
   "metadata": {},
   "outputs": [],
   "source": [
    "vsolution = np.vectorize(solution, excluded=['t'])\n",
    "u = np.zeros((m + 1, n + 1))\n",
    "for k in range(m):\n",
    "\tu[k] = vsolution(x , tau * k)"
   ]
  },
  {
   "cell_type": "code",
   "execution_count": 12,
   "metadata": {},
   "outputs": [
    {
     "data": {
      "image/png": "[encoded data removed]",
      "text/plain": [
       "<Figure size 432x288 with 1 Axes>"
      ]
     },
     "metadata": {
      "needs_background": "light"
     },
     "output_type": "display_data"
    }
   ],
   "source": [
    "ani = animation.FuncAnimation(plt.figure(0), animate, frames=y.shape[0], interval=100)\n",
    "ani.save(\"transfer.mp4\")"
   ]
  },
  {
   "cell_type": "code",
   "execution_count": 11,
   "metadata": {},
   "outputs": [],
   "source": [
    "plt.show()"
   ]
  }
 ],
 "metadata": {
  "kernelspec": {
   "display_name": "Python 3",
   "language": "python",
   "name": "python3"
  },
  "language_info": {
   "codemirror_mode": {
    "name": "ipython",
    "version": 3
   },
   "file_extension": ".py",
   "mimetype": "text/x-python",
   "name": "python",
   "nbconvert_exporter": "python",
   "pygments_lexer": "ipython3",
   "version": "3.8.2"
  }
 },
 "nbformat": 4,
 "nbformat_minor": 4
}
